{
  "nbformat": 4,
  "nbformat_minor": 0,
  "metadata": {
    "colab": {
      "name": "PedestrianAttrDetectionModel.ipynb",
      "provenance": [],
      "collapsed_sections": []
    },
    "kernelspec": {
      "name": "python3",
      "display_name": "Python 3"
    },
    "accelerator": "GPU"
  },
  "cells": [
    {
      "cell_type": "code",
      "metadata": {
        "id": "mnt1jinN7EOi",
        "colab_type": "code",
        "colab": {}
      },
      "source": [
        "from google.colab import drive\n",
        "drive.mount('/content/gdrive')"
      ],
      "execution_count": 0,
      "outputs": []
    },
    {
      "cell_type": "code",
      "metadata": {
        "id": "VpqE-uuuXGk9",
        "colab_type": "code",
        "colab": {}
      },
      "source": [
        "import tensorflow as tf\n",
        "tf.reset_default_graph()"
      ],
      "execution_count": 0,
      "outputs": []
    },
    {
      "cell_type": "code",
      "metadata": {
        "id": "j7RENm8jkl6a",
        "colab_type": "code",
        "outputId": "02a3310c-0d86-4198-961a-0df117097b7b",
        "colab": {
          "base_uri": "https://localhost:8080/",
          "height": 190
        }
      },
      "source": [
        "import numpy as np\n",
        "import matplotlib.pyplot as plt\n",
        "import tensorflow as tf\n",
        "import os\n",
        "import cv2\n",
        "import imutils,random\n",
        "\n",
        "from tqdm import tqdm\n",
        "from sklearn.utils import shuffle\n",
        "\n",
        "from sklearn.preprocessing import MultiLabelBinarizer\n",
        "from sklearn.model_selection import train_test_split\n",
        "\n",
        "#label_file_path = '.\\Final Peta Dataset\\\\AllLabels3.txt'\n",
        "label_file_path = '.\\PETA2\\AllLabels3.txt'\n",
        "#images_path_dir = '.\\Final Peta Dataset\\\\Images'\n",
        "images_path_dir = '.\\PETA2\\\\Images'\n",
        "\n",
        "def import_labels(path):\n",
        "    f = open(path,'r')   #Read every line from final label file\n",
        "    lines = f.readlines()\n",
        "    f.close()\n",
        "    \n",
        "    i = 0\n",
        "    while i < len(lines):\n",
        "        lines[i] = lines[i].rstrip('\\n')    #For removing newline at the end of every line\n",
        "        i += 1\n",
        "\n",
        "   \n",
        "    labels = []\n",
        "    for i in lines:\n",
        "        h = i.split(' ')         \n",
        "        labels.append(h)     #Final label list with every label as a column\n",
        "    \n",
        "    return labels\n",
        "\n",
        "\n",
        "\n",
        "def import_images(path):\n",
        "    images = []\n",
        "    for i in tqdm(os.listdir(path)):\n",
        "        image_path = os.path.join(path,i)\n",
        "        image_data = cv2.imread(image_path)\n",
        "        image_data_flat = image_data.shape[0]*image_data.shape[1]\n",
        "        if image_data_flat > 120*60:\n",
        "            image_data = cv2.resize(image_data,(60,120),cv2.INTER_AREA)\n",
        "        else:\n",
        "            image_data = cv2.resize(image_data,(60,120),cv2.INTER_LINEAR)\n",
        "            \n",
        "        images.append(image_data)\n",
        "    \n",
        "    return images\n",
        "\n",
        "\n",
        "def merge_data(labels,images):\n",
        "    data = []\n",
        "    i = 0\n",
        "    while i < len(images):\n",
        "        data.append([images[i],labels[i]])\n",
        "        i += 1\n",
        "    data = shuffle(data)\n",
        "    np.save('PedData4.3.npy',data)\n",
        "    return data\n",
        "\n",
        "def aug_data(trainX,trainY):      #Augments flipped images and corresponding labels to train dataset and returns a new data which\n",
        "    augdata = []                  #has to split into X_train and Y_train\n",
        "    for i,j in enumerate(trainX):\n",
        "        augdata.append([trainX[i],trainY[i]])\n",
        "    \n",
        "    #Adds Horizontally flipped images\n",
        "    for i,j in enumerate(trainX):\n",
        "        horflipped = np.fliplr(trainX[i])\n",
        "        augdata.append([horflipped,trainY[i]])\n",
        "    #Adds rotated images- rotation angle 10-15degree\n",
        "    for i,j in enumerate(trainX):\n",
        "      rotated = imutils.rotate(trainX[i],random.randint(10,16))\n",
        "      augdata.append([rotated,trainY[i]])\n",
        "    '''   \n",
        "    #Adds cropped images of top area for the face\n",
        "    for i in range(len(trainX)):\n",
        "        lx,ly,lz = trainX[i].shape\n",
        "        cropped_face = trainX[i][0:lx//5,:]\n",
        "        cropped_face = cv2.resize(cropped_face,(60,120),cv2.INTER_LANCZOS4)  #For sharp scaling. Cubic and linear is also good\n",
        "        augdata.append([cropped_face,trainY[i]])\n",
        "    '''\n",
        "    \n",
        "    #augdata = shuffle(augdata)  #Shuffling full pedestrian augmented dataset for learning so many attributes creates problem in learning \n",
        "    return augdata\n",
        "\n",
        "\n",
        "\n",
        "#labels = import_labels(label_file_path)\n",
        "#images = import_images(images_path_dir)\n",
        "#data = merge_data(labels,images)\n",
        "\n",
        "data = np.load('/content/gdrive/My Drive/PedDataset/PedData4.3.npy')f\n",
        "\n",
        "X = [i[0] for i in data]\n",
        "Y = [i[1] for i in data]\n",
        "\n",
        "X = np.reshape(X,(len(X),120,60,3))\n",
        "X = X.astype(np.float32)                  \n",
        "\n",
        "\n",
        "a = MultiLabelBinarizer()\n",
        "Y = np.array(Y)\n",
        "Y = a.fit_transform(Y)\n",
        "Y = Y[:,1:]\n",
        "\n",
        "X_train,X_test,Y_train,Y_test = train_test_split(X,Y,test_size=.20,random_state=0)\n",
        "\n",
        "augtraindata = aug_data(X_train,Y_train)\n",
        "\n",
        "X_train_aug = [i[0] for i in augtraindata]\n",
        "Y_train_aug = [i[1] for i in augtraindata]\n",
        "\n",
        "X_train_aug = np.array(X_train_aug)\n",
        "Y_train_aug = np.array(Y_train_aug)\n",
        "\n",
        "num_cols = 120*60*3\n",
        "num_clasess = 47\n",
        "learning_rate = .0005\n",
        "training_epochs = 20\n",
        "batch_size = 100\n",
        "\n",
        "x = tf.placeholder(tf.float32,[None,120,60,3])\n",
        "y = tf.placeholder(tf.float32,[None,num_clasess])\n",
        "drop1 = tf.placeholder(tf.float32)\n",
        "drop2 = tf.placeholder(tf.float32)\n",
        "\n",
        "Weights = {\n",
        "    'W_Conv1':tf.Variable(tf.random_normal([3,3,3,32])), #60x30\n",
        "    'W_Conv2':tf.Variable(tf.random_normal([3,3,32,64])),#30x15 \n",
        "    'W_Conv3':tf.Variable(tf.random_normal([3,3,64,128])),#30x15   #64,128,256 these high number filters doesn't work\n",
        "    'W_fc1':tf.Variable(tf.random_normal([30*15*128,2048])),\n",
        "    'W_fc2':tf.Variable(tf.random_normal([2048,1024])),\n",
        "    'out':tf.Variable(tf.random_normal([1024,47]))\n",
        "}\n",
        "\n",
        "Biases = {\n",
        "    'B_Conv1':tf.Variable(tf.random_normal([32])),\n",
        "    'B_Conv2':tf.Variable(tf.random_normal([64])),\n",
        "    'B_Conv3':tf.Variable(tf.random_normal([128])),\n",
        "    'B_fc1':tf.Variable(tf.random_normal([2048])),\n",
        "    'B_fc2':tf.Variable(tf.random_normal([1024])),\n",
        "    'out':tf.Variable(tf.random_normal([47]))\n",
        "}     \n",
        "\n",
        "def PedCnn(x,Weights,Biases):\n",
        "    x = tf.reshape(x,[-1,120,60,3])\n",
        "    \n",
        "    conv1 = tf.nn.conv2d(x,Weights['W_Conv1'],strides=[1,1,1,1],padding='SAME') + Biases['B_Conv1']\n",
        "    conv1 = tf.nn.relu(conv1)\n",
        "    mean1,var1 = tf.nn.moments(conv1,axes=[0])\n",
        "    conv1 = tf.nn.batch_normalization(conv1,mean1,var1,offset=0,scale=1,variance_epsilon=1e-8)\n",
        "    conv1 = tf.nn.max_pool(conv1,ksize=[1,2,2,1],strides=[1,2,2,1],padding='SAME')\n",
        "    \n",
        "    \n",
        "    conv2 = tf.nn.conv2d(conv1,Weights['W_Conv2'],strides=[1,1,1,1],padding='SAME') + Biases['B_Conv2']\n",
        "    conv2 = tf.nn.relu(conv2)\n",
        "    mean2,var2 = tf.nn.moments(conv2,axes=[0])\n",
        "    conv2 = tf.nn.batch_normalization(conv2,mean2,var2,offset=0,scale=1,variance_epsilon=1e-8)\n",
        "    conv2 = tf.nn.max_pool(conv2,ksize=[1,2,2,1],strides=[1,2,2,1],padding='SAME')\n",
        "    \n",
        "    \n",
        "    conv3 = tf.nn.conv2d(conv2,Weights['W_Conv3'],strides=[1,1,1,1],padding='SAME') + Biases['B_Conv3']\n",
        "    conv3 = tf.nn.relu(conv3)\n",
        "    mean3,var3 = tf.nn.moments(conv3,axes=[0])\n",
        "    conv3 = tf.nn.batch_normalization(conv3,mean3,var3,offset=0,scale=1,variance_epsilon=1e-8)\n",
        "    conv3 = tf.nn.max_pool(conv3,ksize=[1,2,2,1],strides=[1,1,1,1],padding='SAME')\n",
        "    \n",
        "  \n",
        "    fc1 = tf.reshape(conv3,[-1,30*15*128])\n",
        "    \n",
        "    fc1 = tf.matmul(fc1,Weights['W_fc1']) + Biases['B_fc1']\n",
        "    fc1 = tf.nn.relu(fc1)\n",
        "    fc1 = tf.layers.dropout(fc1,drop1)\n",
        "    \n",
        "    fc2 = tf.matmul(fc1,Weights['W_fc2']) + Biases['B_fc2']\n",
        "    fc2 = tf.nn.relu(fc2)\n",
        "    fc2 = tf.layers.dropout(fc2,drop2)\n",
        "    \n",
        "    out = tf.matmul(fc2,Weights['out']) + Biases['out']\n",
        "    return out\n",
        "\n",
        "ypred = PedCnn(x,Weights,Biases)\n",
        "\n",
        "loss = tf.reduce_mean(tf.nn.sigmoid_cross_entropy_with_logits(logits=ypred,labels=y))\n",
        "optimizer = tf.train.AdamOptimizer(learning_rate)\n",
        "train = optimizer.minimize(loss)\n",
        "\n",
        "\n",
        "correct_predictions = tf.equal(tf.round(tf.nn.sigmoid(ypred)),tf.round(y))\n",
        "accuracy = tf.reduce_mean(tf.cast(correct_predictions,tf.float32))\n",
        "\n",
        "init = tf.global_variables_initializer()\n",
        "saver = tf.train.Saver(save_relative_paths=True)\n",
        "\n",
        "sess = tf.Session()\n",
        "sess.run(init)\n"
      ],
      "execution_count": 0,
      "outputs": [
        {
          "output_type": "stream",
          "text": [
            "WARNING:tensorflow:From /usr/local/lib/python3.6/dist-packages/tensorflow/python/framework/op_def_library.py:263: colocate_with (from tensorflow.python.framework.ops) is deprecated and will be removed in a future version.\n",
            "Instructions for updating:\n",
            "Colocations handled automatically by placer.\n",
            "WARNING:tensorflow:From <ipython-input-1-ddae5cc4e4b1>:177: dropout (from tensorflow.python.layers.core) is deprecated and will be removed in a future version.\n",
            "Instructions for updating:\n",
            "Use keras.layers.dropout instead.\n",
            "WARNING:tensorflow:From /usr/local/lib/python3.6/dist-packages/tensorflow/python/ops/math_ops.py:3066: to_int32 (from tensorflow.python.ops.math_ops) is deprecated and will be removed in a future version.\n",
            "Instructions for updating:\n",
            "Use tf.cast instead.\n"
          ],
          "name": "stdout"
        }
      ]
    },
    {
      "cell_type": "code",
      "metadata": {
        "id": "IRWgUYHlIxzC",
        "colab_type": "code",
        "colab": {}
      },
      "source": [
        "#For restoring trained model\n",
        "saver2 = tf.train.import_meta_graph('/content/gdrive/My Drive/FinalPedModel/Arif.meta')\n",
        "saver2.restore(sess,tf.train.latest_checkpoint('/content/gdrive/My Drive/FinalPedModel/'))"
      ],
      "execution_count": 0,
      "outputs": []
    },
    {
      "cell_type": "code",
      "metadata": {
        "id": "MEbHSWUUqHDY",
        "colab_type": "code",
        "colab": {}
      },
      "source": [
        "test_accuracy_history = []\n",
        "train_accuracy_history = []\n",
        "cost_history = []"
      ],
      "execution_count": 0,
      "outputs": []
    },
    {
      "cell_type": "code",
      "metadata": {
        "id": "K32-Kb9slZxv",
        "colab_type": "code",
        "outputId": "7363def7-7f70-4059-bc55-9a21905955e2",
        "colab": {
          "base_uri": "https://localhost:8080/",
          "height": 187
        }
      },
      "source": [
        "\n",
        "#for training on training augmented data and find accuracy on test\n",
        "batch_size = 100\n",
        "\n",
        "totalbatchtrain = int(len(X_train)/batch_size)\n",
        "totalbatchtest = int(len(X_test)/batch_size)\n",
        "for i in range(30):\n",
        "    #Finds cost and train per epoch\n",
        "    sum_cost = 0\n",
        "    m = 0\n",
        "    for j in range(totalbatchtrain):\n",
        "        X_batch_train,Y_batch_train = X_train_aug[m:m+batch_size],Y_train_aug[m:m+batch_size]\n",
        "        _,cost = sess.run([train,loss],{x:X_batch_train,y:Y_batch_train,drop1:0.40,drop2:0.30})\n",
        "        m += batch_size\n",
        "        sum_cost += cost\n",
        "        \n",
        "    avg_cost = sum_cost/totalbatchtrain   \n",
        "    cost_history.append(avg_cost)\n",
        "    \n",
        "    #Finds test accuracy per epoch\n",
        "    m = 0\n",
        "    sum_acc = 0\n",
        "    for j in range(totalbatchtest):\n",
        "      X_batch_test,Y_batch_test = X_test[m:m+batch_size],Y_test[m:m+batch_size]\n",
        "      m+=batch_size\n",
        "      acc = sess.run(accuracy,{x:X_batch_test,y:Y_batch_test,drop1:0.00,drop2:0.00})\n",
        "      sum_acc += acc\n",
        "\n",
        "    avg_acc1 = sum_acc/totalbatchtest\n",
        "    test_accuracy_history.append(avg_acc1)\n",
        "    \n",
        "    print(f'Epoch {i},Cost {avg_cost}')\n",
        "    \n",
        "    #Finds train accuracy per epoch\n",
        "    m = 0\n",
        "    sum_acc = 0\n",
        "    for j in range(totalbatchtrain):\n",
        "      X_batch_train,Y_batch_train = X_train_aug[m:m+batch_size],Y_train_aug[m:m+batch_size]\n",
        "      m+=batch_size\n",
        "      acc = sess.run(accuracy,{x:X_batch_train,y:Y_batch_train,drop1:0.00,drop2:0.00})\n",
        "      sum_acc += acc\n",
        "\n",
        "    avg_acc2 = sum_acc/totalbatchtrain\n",
        "    train_accuracy_history.append(avg_acc2)\n",
        "    \n",
        "    print(f'Test accuracy - {avg_acc1} Train Accuracy = {avg_acc2}')\n",
        "    "
      ],
      "execution_count": 0,
      "outputs": [
        {
          "output_type": "stream",
          "text": [
            "Epoch 0,Cost 8276.758535284745\n",
            "Test accuracy - 0.8177099667097393 Train Accuracy = 0.8425951854963052\n",
            "Epoch 1,Cost 5200.293100457442\n",
            "Test accuracy - 0.8196528553962708 Train Accuracy = 0.8528723414791258\n",
            "Epoch 2,Cost 3650.2055937114515\n",
            "Test accuracy - 0.8225027934501046 Train Accuracy = 0.8632390801059572\n",
            "Epoch 3,Cost 2658.894351356908\n",
            "Test accuracy - 0.822463604964708 Train Accuracy = 0.8740649489979995\n",
            "Epoch 4,Cost 2070.844547472502\n",
            "Test accuracy - 0.8227043669474753 Train Accuracy = 0.8778233465395475\n"
          ],
          "name": "stdout"
        }
      ]
    },
    {
      "cell_type": "code",
      "metadata": {
        "id": "1G01SstV24wE",
        "colab_type": "code",
        "colab": {}
      },
      "source": [
        "#Predicted Values for test set\n",
        "predictedValues = np.empty((len(X_test),47))\n",
        "totalbatchtrain = int(len(X_test)/batch_size)\n",
        "m = 0\n",
        "for j in range(totalbatchtrain):\n",
        "    X_batch,Y_batch = X_test[m:m+batch_size],Y_test[m:m+batch_size]\n",
        "    predictedValues[m:m+batch_size] = sess.run(ypred,{x:X_batch,y:Y_batch,drop1:0.0,drop2:0.0})\n",
        "    m += batch_size\n",
        "    "
      ],
      "execution_count": 0,
      "outputs": []
    },
    {
      "cell_type": "code",
      "metadata": {
        "id": "qE8rNH0zII-e",
        "colab_type": "code",
        "colab": {}
      },
      "source": [
        "\n"
      ],
      "execution_count": 0,
      "outputs": []
    },
    {
      "cell_type": "code",
      "metadata": {
        "id": "0M3vEkHsoxzv",
        "colab_type": "code",
        "colab": {}
      },
      "source": [
        "#FOR SAVING FINAL MODEL\n",
        "save_path = saver.save(sess,'/content/FinalPedModel/Arif')"
      ],
      "execution_count": 0,
      "outputs": []
    },
    {
      "cell_type": "code",
      "metadata": {
        "id": "nLV0ahu-ny9l",
        "colab_type": "code",
        "outputId": "222f6ba4-1803-4244-f87b-6a2b20819250",
        "colab": {
          "base_uri": "https://localhost:8080/",
          "height": 85
        }
      },
      "source": [
        "#Calculating all performance scores of Model\n",
        "from sklearn.metrics import accuracy_score,precision_score,recall_score,f1_score,classification_report\n",
        "predictedValuesActual = sess.run(tf.round(tf.nn.sigmoid(predictedValues)))\n",
        "\n",
        "accuracyModel = 0\n",
        "recallModel = 0\n",
        "precisionModel = 0\n",
        "f1scoreModel = 0\n",
        "for i in range(47):\n",
        "  accuracyModel += accuracy_score(predictedValuesActual[:,i],Y_test[:,i])\n",
        "  recallModel += recall_score(predictedValuesActual[:,i],Y_test[:,i])\n",
        "  precisionModel += precision_score(predictedValuesActual[:,i],Y_test[:,i])\n",
        "  f1scoreModel += f1_score(predictedValuesActual[:,i],Y_test[:,i])\n",
        "\n",
        "accuracyModel = accuracyModel / 47\n",
        "recallModel = recallModel / 47\n",
        "precisionModel = precisionModel / 47\n",
        "f1scoreModel = f1scoreModel / 47\n",
        "\n",
        "print(f'Accuracy of final Model = {accuracyModel}\\nRecall of final model = {recallModel}\\nPrecision of final Model = {precisionModel}\\nF1 Score of final Model = {f1scoreModel}')"
      ],
      "execution_count": 0,
      "outputs": [
        {
          "output_type": "stream",
          "text": [
            "Accuracy of final Model = 0.8421500559910414\n",
            "Recall of final model = 0.41269123606220603\n",
            "Precision of final Model = 0.4577854177650058\n",
            "F1 Score of final Model = 0.4289177877297099\n"
          ],
          "name": "stdout"
        }
      ]
    },
    {
      "cell_type": "code",
      "metadata": {
        "id": "j0lIDHvrQfRr",
        "colab_type": "code",
        "colab": {}
      },
      "source": [
        "#Real data extraction function\n",
        "def merge_realdata(labels,images):\n",
        "    data = []\n",
        "    i = 0\n",
        "    while i < len(images):\n",
        "        data.append([images[i],labels[i]])\n",
        "        i += 1\n",
        "    data = shuffle(data)\n",
        "    np.save('PedRealDataForFullBody.npy',data)\n",
        "    return data  \n",
        "  \n",
        "def import_realimages(path):\n",
        "    images = []\n",
        "    for i in tqdm(os.listdir(path)):\n",
        "        image_path = os.path.join(path,i)\n",
        "        image_data = cv2.imread(image_path)\n",
        "        image_data_flat = image_data.shape[0]*image_data.shape[1]\n",
        "        if image_data_flat > 120*60:\n",
        "            image_data = cv2.resize(image_data,(60,120),cv2.INTER_AREA)\n",
        "        else:\n",
        "            image_data = cv2.resize(image_data,(60,120),cv2.INTER_LINEAR)\n",
        "            \n",
        "        images.append(image_data)\n",
        "    \n",
        "    return images\n"
      ],
      "execution_count": 0,
      "outputs": []
    },
    {
      "cell_type": "code",
      "metadata": {
        "id": "5LqJPlG1Hz0a",
        "colab_type": "code",
        "outputId": "42b80f4d-59e2-4bfe-c857-22636924aadd",
        "colab": {
          "base_uri": "https://localhost:8080/",
          "height": 34
        }
      },
      "source": [
        "#Real data extracting\n",
        "realimages = import_realimages('/content/gdrive/My Drive/RealPedestrianData')\n",
        "reallabels = import_labels('/content/gdrive/My Drive/RealDataLabel.txt')\n",
        "realdata  = merge_realdata(reallabels,realimages)"
      ],
      "execution_count": 0,
      "outputs": [
        {
          "output_type": "stream",
          "text": [
            "100%|██████████| 115/115 [00:40<00:00,  2.29it/s]\n"
          ],
          "name": "stderr"
        }
      ]
    },
    {
      "cell_type": "code",
      "metadata": {
        "id": "ltsVALV_OE3a",
        "colab_type": "code",
        "colab": {}
      },
      "source": [
        "XReal = [i[0] for i in realdata]\n",
        "YReal = [i[1] for i in realdata]\n",
        "\n",
        "#Reshape is optional. np.array(X) automatically shapes the array\n",
        "XReal = np.array(XReal) #[Image numbers,Height, Width, Channel] for tensors\n",
        "XReal = XReal.astype(np.float32)                  \n",
        "\n",
        "a = MultiLabelBinarizer()\n",
        "YReal = np.array(YReal)\n",
        "YReal = a.fit_transform(YReal)\n",
        "YReal = YReal[:,:]"
      ],
      "execution_count": 0,
      "outputs": []
    },
    {
      "cell_type": "code",
      "metadata": {
        "id": "ocnWLjxKOQ5_",
        "colab_type": "code",
        "colab": {}
      },
      "source": [
        "#Finds test accuracy on real data\n",
        "accReal = sess.run(accuracy,{x:XReal,y:YReal,drop1:0.0,drop2:0.0})\n",
        "print(f'Accuracy on Real Data = {accReal}')"
      ],
      "execution_count": 0,
      "outputs": []
    },
    {
      "cell_type": "code",
      "metadata": {
        "id": "IxdgMxHxx9Q3",
        "colab_type": "code",
        "colab": {}
      },
      "source": [
        "predictedValuesTrue = sess.run(tf.round(tf.nn.sigmoid(predictedValues)))"
      ],
      "execution_count": 0,
      "outputs": []
    },
    {
      "cell_type": "code",
      "metadata": {
        "id": "760I2V3OLC27",
        "colab_type": "code",
        "colab": {}
      },
      "source": [
        "#Saving results npy\n",
        "FinalPedModelResults = []\n",
        "for i in range(len(cost_history)):\n",
        "  FinalPedModelResults.append([test_accuracy_history[i],train_accuracy_history[i],cost_history[i]])"
      ],
      "execution_count": 0,
      "outputs": []
    },
    {
      "cell_type": "code",
      "metadata": {
        "id": "b-jotYlZLMr7",
        "colab_type": "code",
        "colab": {}
      },
      "source": [
        "np.save('FinalPedModelResults.npy',FinalPedModelResults)"
      ],
      "execution_count": 0,
      "outputs": []
    },
    {
      "cell_type": "code",
      "metadata": {
        "id": "hHUNbhxqaBdH",
        "colab_type": "code",
        "outputId": "cc350423-1318-48ce-805e-2fbf2ef7aee8",
        "colab": {
          "base_uri": "https://localhost:8080/",
          "height": 34
        }
      },
      "source": [
        "from sklearn.metrics import accuracy_score\n",
        "scores = []\n",
        "for i in range(len(predictedValues)):\n",
        "  scores.append(accuracy_score([b[i,0]],[Y_test[i,0]]))\n",
        "\n",
        "sess.run(tf.reduce_mean(scores))"
      ],
      "execution_count": 0,
      "outputs": [
        {
          "output_type": "execute_result",
          "data": {
            "text/plain": [
              "0.94026315"
            ]
          },
          "metadata": {
            "tags": []
          },
          "execution_count": 85
        }
      ]
    },
    {
      "cell_type": "code",
      "metadata": {
        "id": "tzx420idODQ8",
        "colab_type": "code",
        "outputId": "b64274e8-14e7-48c2-e589-db94f0df4711",
        "colab": {
          "base_uri": "https://localhost:8080/",
          "height": 34
        }
      },
      "source": [
        "totalbatchtrain = int(len(X_train)/batch_size)\n",
        "m = 0\n",
        "sum_acc = 0\n",
        "for i in range(totalbatchtrain):\n",
        "    x_batch_train,y_batch_train = X_train[m:m+batch_size],Y_train[m:m+batch_size]\n",
        "    m+=batch_size\n",
        "    acc = sess.run(accuracy,{x:x_batch_train,y:y_batch_train,drop1:0.0,drop2:0.0})\n",
        "    sum_acc += acc\n",
        "\n",
        "avg_acc = sum_acc/totalbatchtrain\n",
        "\n",
        "print(f'Accuracy on train set = {avg_acc}')\n"
      ],
      "execution_count": 0,
      "outputs": [
        {
          "output_type": "stream",
          "text": [
            "Accuracy on train set = 0.9855193142828188\n"
          ],
          "name": "stdout"
        }
      ]
    },
    {
      "cell_type": "code",
      "metadata": {
        "id": "SSaDAkAIJIKW",
        "colab_type": "code",
        "outputId": "8cb80fcc-aa2b-4211-a8a6-0b355201ecbf",
        "colab": {
          "base_uri": "https://localhost:8080/",
          "height": 34
        }
      },
      "source": [
        "totalbatchtest = int(len(X_test)/batch_size)\n",
        "m = 0\n",
        "sum_acc = 0\n",
        "for i in range(totalbatchtest):\n",
        "    x_batch_test,y_batch_test = X_test[m:m+batch_size],Y_test[m:m+batch_size]\n",
        "    m+=batch_size\n",
        "    acc = sess.run(accuracy,{x:x_batch_test,y:y_batch_test,drop:0.0})\n",
        "    sum_acc += acc\n",
        "\n",
        "avg_acc = sum_acc/totalbatchtest\n",
        "\n",
        "print(f'Accuracy on test set = {avg_acc}')\n"
      ],
      "execution_count": 0,
      "outputs": [
        {
          "output_type": "stream",
          "text": [
            "Accuracy on test set = 0.8641265395440554\n"
          ],
          "name": "stdout"
        }
      ]
    },
    {
      "cell_type": "code",
      "metadata": {
        "id": "V3o9hREerWeo",
        "colab_type": "code",
        "outputId": "46b1ab9a-15b3-44f0-c5d9-7c6b33cf80bf",
        "colab": {
          "base_uri": "https://localhost:8080/",
          "height": 34
        }
      },
      "source": [
        "totalbatchtrain = int(len(X_train_aug)/batch_size)\n",
        "m = 0\n",
        "sum_acc = 0\n",
        "for i in range(totalbatchtrain):\n",
        "    x_batch_train,y_batch_train = X_train_aug[m:m+batch_size],Y_train_aug[m:m+batch_size]\n",
        "    m+=batch_size\n",
        "    acc = sess.run(accuracy,{x:x_batch_train,y:y_batch_train,drop:0.0})\n",
        "    sum_acc += acc\n",
        "\n",
        "avg_acc = sum_acc/totalbatchtrain\n",
        "\n",
        "print(f'Accuracy on train augmented set = {avg_acc}')"
      ],
      "execution_count": 0,
      "outputs": [
        {
          "output_type": "stream",
          "text": [
            "Accuracy on train augmented set = 0.8906907898030783\n"
          ],
          "name": "stdout"
        }
      ]
    },
    {
      "cell_type": "code",
      "metadata": {
        "id": "51pHkWejnwvt",
        "colab_type": "code",
        "colab": {}
      },
      "source": [
        "#Finding accuracy per attribute\n",
        "\n",
        "accuracy_per_attribute = [0] * 47\n",
        "for i in range(47):\n",
        "    correct_prediction_per_attribute = tf.equal(tf.round(tf.nn.sigmoid(ypred[:,i])),tf.round(y[:,i]))\n",
        "    accuracy_per_attribute[i] = tf.reduce_mean(tf.cast(correct_prediction_per_attribute,tf.float32))\n"
      ],
      "execution_count": 0,
      "outputs": []
    },
    {
      "cell_type": "code",
      "metadata": {
        "id": "lMF4ils3noLM",
        "colab_type": "code",
        "colab": {}
      },
      "source": [
        "#Accuracy per attribute test on test set\n",
        "totalbatchtest = int(len(X_test)/batch_size)\n",
        "m = 0\n",
        "sum_acc = [0] * 47\n",
        "avg_acc = [0] * 47 \n",
        "for i in range(totalbatchtest):\n",
        "    x_batch_test,y_batch_test = X_test[m:m+batch_size],Y_test[m:m+batch_size]\n",
        "    m+=batch_size\n",
        "    acc = sess.run(accuracy_per_attribute,{x:x_batch_test,y:y_batch_test,drop1:0.0,drop2:0.0})\n",
        "    for j,k in enumerate(acc):\n",
        "        sum_acc[j] += acc[j]\n",
        "\n",
        "for i,j in enumerate(sum_acc):\n",
        "    avg_acc[i] = sum_acc[i]/totalbatchtest\n"
      ],
      "execution_count": 0,
      "outputs": []
    },
    {
      "cell_type": "code",
      "metadata": {
        "id": "NMIKgZYdxYiZ",
        "colab_type": "code",
        "outputId": "9898b4d3-d265-4dd4-a80d-713ef0de1072",
        "colab": {
          "base_uri": "https://localhost:8080/",
          "height": 34
        }
      },
      "source": [
        "attrs = ['accessoryHairBand','accessoryHat','accessoryHeadphone','accessoryKerchief','accessoryMuffler','accessoryNothing','accessorySunglasses',\n",
        " 'carryingBackpack','carryingMessengerBag','carryingNothing','carryingOther','carryingPlasticBags','carryingSuitcase',\n",
        " 'footwearBoots','footwearLeatherShoes','footwearSandals','footwearShoes','footwearSneakers','footwearStocking',\n",
        " 'hairBald','hairLong','hairShort',\n",
        " 'lowerBodyCapri','lowerBodyCasual','lowerBodyFormal','lowerBodyHotPants','lowerBodyJeans','lowerBodyLongSkirt','lowerBodyShortSkirt','lowerBodyShorts',\n",
        " 'lowerBodyTrousers','personalFemale','personalLarger60','personalLess15','personalLess30','personalLess45','personalLess60','personalMale',\n",
        " 'upperBodyCasual','upperBodyFormal','upperBodyJacket','upperBodyLongSleeve','upperBodyOther','upperBodyPlaid','upperBodyShortSleeve',\n",
        " 'upperBodyTshirt','upperBodyVNeck']\n",
        "len(attrs)"
      ],
      "execution_count": 0,
      "outputs": [
        {
          "output_type": "execute_result",
          "data": {
            "text/plain": [
              "47"
            ]
          },
          "metadata": {
            "tags": []
          },
          "execution_count": 43
        }
      ]
    },
    {
      "cell_type": "code",
      "metadata": {
        "id": "bzXfCZBkY75W",
        "colab_type": "code",
        "colab": {}
      },
      "source": [
        "accperAttributeSave = []\n",
        "for i in range(47):\n",
        "  accperAttributeSave.append([attrs[i],avg_acc[i]])"
      ],
      "execution_count": 0,
      "outputs": []
    },
    {
      "cell_type": "code",
      "metadata": {
        "id": "i0ZqcaCfbEC4",
        "colab_type": "code",
        "colab": {}
      },
      "source": [
        "for i,j in enumerate(avg_acc):\n",
        "  print(f'{attrs[i]} --- {avg_acc[i]}')"
      ],
      "execution_count": 0,
      "outputs": []
    },
    {
      "cell_type": "code",
      "metadata": {
        "id": "ZG-m3ElfYyK1",
        "colab_type": "code",
        "colab": {}
      },
      "source": [
        "np.save('FinalPedModelPerAttribute.npy',accperAttributeSave)"
      ],
      "execution_count": 0,
      "outputs": []
    },
    {
      "cell_type": "code",
      "metadata": {
        "id": "I_ow8Ml-CD8Q",
        "colab_type": "code",
        "colab": {}
      },
      "source": [
        "#For saving file to Drive\n",
        "\n",
        "from google.colab import auth\n",
        "from googleapiclient.http import MediaFileUpload\n",
        "from googleapiclient.discovery import build\n",
        "\n",
        "auth.authenticate_user()\n",
        "\n",
        "drive_service = build('drive', 'v3')\n",
        "\n",
        "def save_file_to_drive(name, path):\n",
        "    file_metadata = {\n",
        "      'name': name,\n",
        "      'mimeType': 'application/octet-stream'\n",
        "     }\n",
        "\n",
        "    media = MediaFileUpload(path, \n",
        "                    mimetype='application/octet-stream',\n",
        "                    resumable=True)\n",
        "\n",
        "    created = drive_service.files().create(body=file_metadata,\n",
        "                                   media_body=media,\n",
        "                                   fields='id').execute()\n",
        "\n",
        "    print('File ID: {}'.format(created.get('id')))\n",
        "\n",
        "    return created"
      ],
      "execution_count": 0,
      "outputs": []
    },
    {
      "cell_type": "code",
      "metadata": {
        "id": "0jUhwoioDSU4",
        "colab_type": "code",
        "outputId": "c96234fc-7adc-4c5a-c348-5721b79d3f89",
        "colab": {
          "base_uri": "https://localhost:8080/",
          "height": 85
        }
      },
      "source": [
        "k = os.listdir('/content/FinalPedModel')\n",
        "for i in k:\n",
        "  save_file_to_drive(f'{i}',f'/content/FinalPedModel/{i}')"
      ],
      "execution_count": 0,
      "outputs": [
        {
          "output_type": "stream",
          "text": [
            "File ID: 19YH2QLEYUOQ6SqFLf8nT143QLl_pksNc\n",
            "File ID: 1qivBekLuWHMPwH5K6NSWf4SiFm02d6Pv\n",
            "File ID: 1zhAZDyut8aZhTMlT7uI7hIIwIVbm9A9h\n",
            "File ID: 1n4iM7eOqm40GaN9e5GwsjjM0ZcTRWgTx\n"
          ],
          "name": "stdout"
        }
      ]
    },
    {
      "cell_type": "code",
      "metadata": {
        "id": "GQn7XKzpP4xf",
        "colab_type": "code",
        "colab": {}
      },
      "source": [
        "import numpy as np\n",
        "costacc = np.load(\"/content/gdrive/My Drive/FinalModelResultsBest/FinalCostAccuracy3.npy\")"
      ],
      "execution_count": 0,
      "outputs": []
    },
    {
      "cell_type": "code",
      "metadata": {
        "id": "t04-D91hT_QT",
        "colab_type": "code",
        "outputId": "6358119e-366f-4144-b6b8-c796849caa64",
        "colab": {
          "base_uri": "https://localhost:8080/",
          "height": 34
        }
      },
      "source": [
        "costacc.shape"
      ],
      "execution_count": 0,
      "outputs": [
        {
          "output_type": "execute_result",
          "data": {
            "text/plain": [
              "(91, 2)"
            ]
          },
          "metadata": {
            "tags": []
          },
          "execution_count": 51
        }
      ]
    },
    {
      "cell_type": "code",
      "metadata": {
        "id": "eJzoIEgnhTTm",
        "colab_type": "code",
        "colab": {}
      },
      "source": [
        "import numpy as np\n",
        "accperAtt = np.load(\"/content/gdrive/My Drive/FinalModelResultsBest/AccuracyPerAttribute3.npy\")"
      ],
      "execution_count": 0,
      "outputs": []
    },
    {
      "cell_type": "code",
      "metadata": {
        "id": "np1nDaGTVxHv",
        "colab_type": "code",
        "outputId": "86e924cc-ceaf-4025-d787-27a2e824a578",
        "colab": {
          "base_uri": "https://localhost:8080/",
          "height": 620
        }
      },
      "source": [
        "#Data visualization\n",
        "#Cost and accuracy and epoch graph\n",
        "import matplotlib.pyplot as plt\n",
        "fig = plt.figure(figsize=(20,10))\n",
        "ax = fig.add_subplot(111)\n",
        "ax.plot(np.arange(1,92),costacc[:91,1])\n",
        "ax.scatter(np.arange(1,92),costacc[:91,1])\n",
        "ax.set(title='Accuracy over number of epochs',ylabel='Accuracy',xlabel='Number of epochs')\n",
        "plt.show()"
      ],
      "execution_count": 0,
      "outputs": [
        {
          "output_type": "display_data",
          "data": {
            "image/png": "[encoded data removed]",
            "text/plain": [
              "<matplotlib.figure.Figure at 0x7f7ba8e3d748>"
            ]
          },
          "metadata": {
            "tags": []
          }
        }
      ]
    },
    {
      "cell_type": "code",
      "metadata": {
        "id": "aQV_V88YXiNj",
        "colab_type": "code",
        "colab": {}
      },
      "source": [
        "attNames = ['Hairband','Hat','HeadPhone','Kerchief','Muffler','NoAccessory','Sunglass','Backpack','MessengerBag','NoCarry','OtherCarry','PlasticBag',\n",
        "            'SuitCase','Boots','LeatherShoe','Sandal','Shoes','Sneakers','Stocking','HairBald','HairLong','HairShort','lowerCapri','lowerCasual','lowerFormal',\n",
        "            'lowerHotPants','lowerJeans','lowerLongSkirt','lowerShortSkirt','lowerShirts','lowerTrousers','Female','Age>60','Age<15','Age<30','Age<45','Age<60',\n",
        "            'Male','upperCasual','upperFormal','upperJacket','upperLongSleeve','upperOther','upperPlaid','upperShortSleeve','upperTshirt','upperVneck']"
      ],
      "execution_count": 0,
      "outputs": []
    },
    {
      "cell_type": "code",
      "metadata": {
        "id": "US78HzXe2vvH",
        "colab_type": "code",
        "colab": {}
      },
      "source": [
        "for i in range(47):\n",
        "  print(f'{attNames[i]} accuracy = {accperAtt[i]}')"
      ],
      "execution_count": 0,
      "outputs": []
    },
    {
      "cell_type": "code",
      "metadata": {
        "id": "J4NM79xJ6Bwa",
        "colab_type": "code",
        "colab": {}
      },
      "source": [
        "# Import `pyplot`\n",
        "import numpy as np\n",
        "import matplotlib.pyplot as plt\n",
        "fig = plt.figure(figsize=(30,10))\n",
        "ax = fig.add_subplot(121)\n",
        "\n",
        "ax.bar(np.arange(1,48),accperAtt[:])\n",
        "ax.set(title='Recognition accuracy',ylabel='Accuracy',xlabel='47 Pedestrian Attributes')\n",
        "ax.xaxis.set(ticks=np.arange(49),ticklabels=attNamesTicks)\n",
        "ax.tick_params(axis='x',direction='inout',labelrotation=90,labelsize=14)\n",
        "plt.show()"
      ],
      "execution_count": 0,
      "outputs": []
    },
    {
      "cell_type": "code",
      "metadata": {
        "id": "riXvH0KsIvca",
        "colab_type": "code",
        "colab": {}
      },
      "source": [
        "#Code for comparing and analysing detected and actual attributes\n",
        "#Best 13 matches 183, 718, 1769, 2270 best matche 13/13 All belonging to the same pedestrian\n",
        "#12 matches 108,265,343,381,664,682,704,784,1020,1033,1104,1123,1126,1133,1155,1163,1184,1189,1241,1279,1399,1605,1620,1639,\n",
        "#12 matches 1765,1789,1984,2008,2125,2136,2215,2223,2265,2289,2340,2437,2550,2556,2655,2682,2863,3001,3050,3132,3216,3227 \n",
        "#Least 0 match 2537\n",
        "#Just 1 match 375, 376, 746, 2573, 2582, 2951, 3029\n",
        "#Just 2 match 69,230,373,591,600,803,1208,1410,1841,1869\n",
        "fig = plt.figure()\n",
        "ax = fig.add_subplot(131)\n",
        "k = 1869\n",
        "ax.imshow(X_test[k].astype(np.uint8))\n",
        "for i,j in enumerate(predictedValuesTrue[k]):\n",
        "  if j == 1:\n",
        "    print(f'{attrs[i]} = True')\n",
        "\n",
        "print('\\n\\nActual values\\n')\n",
        "for i,j in enumerate(Y_test[k]):\n",
        "  if j == 1:\n",
        "    print(f'{attrs[i]} = True')"
      ],
      "execution_count": 0,
      "outputs": []
    },
    {
      "cell_type": "code",
      "metadata": {
        "id": "HmAo8nVNNE_W",
        "colab_type": "code",
        "colab": {}
      },
      "source": [
        "#Code for finding number of positive attribute matches per image\n",
        "matchcount = []\n",
        "for i in range(len(predictedValuesTrue)):\n",
        "  count = 0\n",
        "  for j in range(len(predictedValuesTrue[i])):\n",
        "    if predictedValuesTrue[i][j] == 1:\n",
        "      if predictedValuesTrue[i][j] == Y_test[i][j]:\n",
        "        count += 1\n",
        "  matchcount.append(count)"
      ],
      "execution_count": 0,
      "outputs": []
    },
    {
      "cell_type": "code",
      "metadata": {
        "id": "L_MWQn9vu6Js",
        "colab_type": "code",
        "colab": {}
      },
      "source": [
        "#Code for matching number of detections with images\n",
        "bestpositives = []\n",
        "for i in range(len(matchcount)):\n",
        "  if matchcount[i] == 2:\n",
        "    bestpositives.append(i)"
      ],
      "execution_count": 0,
      "outputs": []
    },
    {
      "cell_type": "code",
      "metadata": {
        "id": "5CSXECw9IVJ0",
        "colab_type": "code",
        "outputId": "48108db9-b147-45c8-ff6a-3f99eff96b1e",
        "colab": {
          "base_uri": "https://localhost:8080/",
          "height": 364
        }
      },
      "source": [
        "x = tf.reshape(X_test[100],[-1,120,60,3])\n",
        "    \n",
        "conv1 = tf.nn.conv2d(x,Weights['W_Conv1'],strides=[1,1,1,1],padding='SAME') + Biases['B_Conv1']\n",
        "conv1 = tf.nn.relu(conv1)\n",
        "conv1 = tf.nn.max_pool(conv1,ksize=[1,2,2,1],strides=[1,2,2,1],padding='SAME')\n",
        "fig,axes = plt.subplots(4,4)\n",
        "\n",
        "#print(sess.run(conv3[0,:,:,64])) #image number,height,width,filternumber\n",
        "for i, ax in enumerate(axes.flat):\n",
        "  z = sess.run(conv1[0,:,:,i])\n",
        "  ax.set_xticks([]) \n",
        "  ax.set_yticks([])\n",
        "  ax.imshow(z.astype(np.uint8))\n",
        "  \n",
        "conv2 = tf.nn.conv2d(conv1,Weights['W_Conv2'],strides=[1,1,1,1],padding='SAME') + Biases['B_Conv2']\n",
        "conv2 = tf.nn.relu(conv2)\n",
        "conv2 = tf.nn.max_pool(conv2,ksize=[1,2,2,1],strides=[1,2,2,1],padding='SAME')\n",
        "print(conv2.shape)\n",
        "\n",
        "\n",
        "conv3 = tf.nn.conv2d(conv2,Weights['W_Conv3'],strides=[1,1,1,1],padding='SAME') + Biases['B_Conv3']\n",
        "conv3 = tf.nn.relu(conv3)\n",
        "conv3 = tf.nn.max_pool(conv3,ksize=[1,4,2,1],strides=[1,1,1,1],padding='SAME')\n",
        "print(conv3.shape)\n"
      ],
      "execution_count": 0,
      "outputs": [
        {
          "output_type": "stream",
          "text": [
            "(1, 30, 15, 32)\n",
            "(1, 30, 15, 64)\n"
          ],
          "name": "stdout"
        },
        {
          "output_type": "display_data",
          "data": {
            "image/png": "[encoded data removed]",
            "text/plain": [
              "<Figure size 576x396 with 16 Axes>"
            ]
          },
          "metadata": {
            "tags": []
          }
        }
      ]
    },
    {
      "cell_type": "code",
      "metadata": {
        "id": "S5PgEIUsbNEd",
        "colab_type": "code",
        "outputId": "602c2c0c-2616-4774-f164-be4e21360783",
        "colab": {
          "base_uri": "https://localhost:8080/",
          "height": 364
        }
      },
      "source": [
        "x = tf.reshape(X_test[100],[-1,120,60,3])\n",
        "    \n",
        "conv1 = tf.nn.conv2d(x,Weights['W_Conv1'],strides=[1,1,1,1],padding='SAME') + Biases['B_Conv1']\n",
        "conv1 = tf.nn.relu(conv1)\n",
        "conv1 = tf.nn.max_pool(conv1,ksize=[1,2,2,1],strides=[1,2,2,1],padding='SAME')\n",
        "\n",
        "conv2 = tf.nn.conv2d(conv1,Weights['W_Conv2'],strides=[1,1,1,1],padding='SAME') + Biases['B_Conv2']\n",
        "conv2 = tf.nn.relu(conv2)\n",
        "conv2 = tf.nn.max_pool(conv2,ksize=[1,2,2,1],strides=[1,2,2,1],padding='SAME')\n",
        "print(conv2.shape)\n",
        "\n",
        "fig,axes = plt.subplots(8,4)\n",
        "\n",
        "#print(sess.run(conv[0,:,:,64])) #image number,height,width,filternumber\n",
        "for i, ax in enumerate(axes.flat):\n",
        "  z = sess.run(conv2[0,:,:,i])\n",
        "  ax.set_xticks([]) \n",
        "  ax.set_yticks([])\n",
        "  ax.imshow(z.astype(np.uint8))\n",
        "\n",
        "conv3 = tf.nn.conv2d(conv2,Weights['W_Conv3'],strides=[1,1,1,1],padding='SAME') + Biases['B_Conv3']\n",
        "conv3 = tf.nn.relu(conv3)\n",
        "conv3 = tf.nn.max_pool(conv3,ksize=[1,4,2,1],strides=[1,1,1,1],padding='SAME')\n",
        "print(conv3.shape)\n"
      ],
      "execution_count": 0,
      "outputs": [
        {
          "output_type": "stream",
          "text": [
            "(1, 30, 15, 32)\n",
            "(1, 30, 15, 64)\n"
          ],
          "name": "stdout"
        },
        {
          "output_type": "display_data",
          "data": {
            "image/png": "[encoded data removed]",
            "text/plain": [
              "<matplotlib.figure.Figure at 0x7f5e0054c9b0>"
            ]
          },
          "metadata": {
            "tags": []
          }
        }
      ]
    },
    {
      "cell_type": "code",
      "metadata": {
        "id": "pSXcE5AcbNzW",
        "colab_type": "code",
        "outputId": "5af963a1-23de-41c4-b2bb-1c680b833a81",
        "colab": {
          "base_uri": "https://localhost:8080/",
          "height": 364
        }
      },
      "source": [
        "x = tf.reshape(X_test[100],[-1,120,60,3])\n",
        "    \n",
        "conv1 = tf.nn.conv2d(x,Weights['W_Conv1'],strides=[1,1,1,1],padding='SAME') + Biases['B_Conv1']\n",
        "conv1 = tf.nn.relu(conv1)\n",
        "conv1 = tf.nn.max_pool(conv1,ksize=[1,2,2,1],strides=[1,2,2,1],padding='SAME')\n",
        "\n",
        "conv2 = tf.nn.conv2d(conv1,Weights['W_Conv2'],strides=[1,1,1,1],padding='SAME') + Biases['B_Conv2']\n",
        "conv2 = tf.nn.relu(conv2)\n",
        "conv2 = tf.nn.max_pool(conv2,ksize=[1,2,2,1],strides=[1,2,2,1],padding='SAME')\n",
        "print(conv2.shape)\n",
        "\n",
        "\n",
        "conv3 = tf.nn.conv2d(conv2,Weights['W_Conv3'],strides=[1,1,1,1],padding='SAME') + Biases['B_Conv3']\n",
        "conv3 = tf.nn.relu(conv3)\n",
        "conv3 = tf.nn.max_pool(conv3,ksize=[1,4,2,1],strides=[1,1,1,1],padding='SAME')\n",
        "print(conv3.shape)\n",
        "fig,axes = plt.subplots(8,8)\n",
        "\n",
        "#print(sess.run(conv3[0,:,:,64])) #image number,height,width,filternumber\n",
        "for i, ax in enumerate(axes.flat):\n",
        "  z = sess.run(conv3[0,:,:,i])\n",
        "  ax.set_xticks([]) \n",
        "  ax.set_yticks([])\n",
        "  ax.imshow(z.astype(np.uint8))"
      ],
      "execution_count": 0,
      "outputs": [
        {
          "output_type": "stream",
          "text": [
            "(1, 30, 15, 32)\n",
            "(1, 30, 15, 64)\n"
          ],
          "name": "stdout"
        },
        {
          "output_type": "display_data",
          "data": {
            "image/png": "[encoded data removed]",
            "text/plain": [
              "<matplotlib.figure.Figure at 0x7f5dd277a9e8>"
            ]
          },
          "metadata": {
            "tags": []
          }
        }
      ]
    },
    {
      "cell_type": "markdown",
      "metadata": {
        "id": "MMEzM1fNTQry",
        "colab_type": "text"
      },
      "source": [
        ""
      ]
    },
    {
      "cell_type": "code",
      "metadata": {
        "id": "7_aw3tCHwJMm",
        "colab_type": "code",
        "outputId": "0948ded3-a669-4bd8-97a5-98bf54d096ed",
        "colab": {
          "base_uri": "https://localhost:8080/",
          "height": 425
        }
      },
      "source": [
        "bestpositives"
      ],
      "execution_count": 0,
      "outputs": [
        {
          "output_type": "execute_result",
          "data": {
            "text/plain": [
              "[69,\n",
              " 230,\n",
              " 373,\n",
              " 591,\n",
              " 600,\n",
              " 803,\n",
              " 1208,\n",
              " 1410,\n",
              " 1841,\n",
              " 1869,\n",
              " 2021,\n",
              " 2087,\n",
              " 2091,\n",
              " 2173,\n",
              " 2357,\n",
              " 2436,\n",
              " 2594,\n",
              " 2698,\n",
              " 2776,\n",
              " 3178,\n",
              " 3308,\n",
              " 3345,\n",
              " 3404,\n",
              " 3499]"
            ]
          },
          "metadata": {
            "tags": []
          },
          "execution_count": 98
        }
      ]
    },
    {
      "cell_type": "code",
      "metadata": {
        "id": "OuwVCdEj02SK",
        "colab_type": "code",
        "colab": {}
      },
      "source": [
        "import matplotlib.image as mpimage\n",
        "fig = plt.figure()\n",
        "ax = fig.add_subplot(111)\n",
        "m = mpimage.imread('/content/gdrive/My Drive/arif.bmp')\n",
        "ax.imshow(m.astype(np.uint8))"
      ],
      "execution_count": 0,
      "outputs": []
    },
    {
      "cell_type": "markdown",
      "metadata": {
        "id": "vwVZKoSdnm8V",
        "colab_type": "text"
      },
      "source": [
        ""
      ]
    }
  ]
}